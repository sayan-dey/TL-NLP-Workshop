{
  "cells": [
    {
      "cell_type": "markdown",
      "metadata": {
        "id": "BvfLVecHVaMM"
      },
      "source": [
        "# Downloading the files required for the project\n",
        "\n",
        "- The files required for this project are uploaded on google drive and the following code just downloads the files present in the shared folder\n",
        "- The following files are downloaded\n",
        "- **Train.csv**, **Test.csv**, **Mapping.csv**\n",
        "- pre-trained **glove.6B.50d.txt** word embedding\n",
        "- model-related files trained by this project"
      ]
    },
    {
      "cell_type": "code",
      "execution_count": null,
      "metadata": {
        "colab": {
          "base_uri": "https://localhost:8080/"
        },
        "id": "B7arW8paVZsR",
        "outputId": "def06e56-688e-4559-a721-701b2644c6c8"
      },
      "outputs": [
        {
          "name": "stdout",
          "output_type": "stream",
          "text": [
            "Download 100%\n",
            "Download 100%\n",
            "Download 100%\n",
            "Download 100%\n",
            "Download 100%\n",
            "Download 100%\n",
            "Download 100%\n",
            "Download 100%\n",
            "Download 100%\n",
            "Download 100%\n",
            "Download 100%\n",
            "Download 100%\n",
            "Download 100%\n",
            "Download 61%\n",
            "Download 100%\n",
            "The folder has been downloaded to /content/twitter_dataset\n"
          ]
        }
      ],
      "source": [
        "from google.colab import auth\n",
        "from googleapiclient.discovery import build\n",
        "import io\n",
        "from googleapiclient.http import MediaIoBaseDownload\n",
        "\n",
        "# Authenticate and create the Drive API client\n",
        "auth.authenticate_user()\n",
        "drive_service = build('drive', 'v3')\n",
        "\n",
        "# Replace 'YOUR_FOLDER_ID' with the actual folder ID from the shared link\n",
        "folder_id = '1oM7jop65iIfYuKeamvU65Dwt1WkhMkCs'\n",
        "\n",
        "# Set the destination path where you want to download the folder\n",
        "destination_path = '/content/twitter_dataset'\n",
        "\n",
        "# Create the destination directory if it doesn't exist\n",
        "!mkdir -p \"{destination_path}\"\n",
        "\n",
        "# Function to list all files in a folder\n",
        "def list_files(service, folder_id):\n",
        "    results = service.files().list(q=f\"'{folder_id}' in parents\", fields=\"files(id, name)\").execute()\n",
        "    files = results.get('files', [])\n",
        "    return files\n",
        "\n",
        "# Function to download files recursively from Google Drive\n",
        "def download_files(service, file_id, destination_path, file_name):\n",
        "    request = service.files().get_media(fileId=file_id)\n",
        "    fh = io.FileIO(f\"{destination_path}/{file_name}\", 'wb')\n",
        "    downloader = MediaIoBaseDownload(fh, request)\n",
        "    done = False\n",
        "    while done is False:\n",
        "        status, done = downloader.next_chunk()\n",
        "        print(f\"Download {int(status.progress() * 100)}%\")\n",
        "\n",
        "# Download the entire folder recursively\n",
        "def download_folder(service, folder_id, destination_path):\n",
        "    files = list_files(service, folder_id)\n",
        "\n",
        "    for file in files:\n",
        "        file_id = file['id']\n",
        "        file_name = file['name']\n",
        "        file_destination_path = f\"{destination_path}/{file_name}\"\n",
        "\n",
        "        if service.files().get(fileId=file_id).execute().get('mimeType') == 'application/vnd.google-apps.folder':\n",
        "            # If it's a folder, create the folder and download its contents\n",
        "            !mkdir -p \"{file_destination_path}\"\n",
        "            download_folder(service, file_id, file_destination_path)\n",
        "        else:\n",
        "            # If it's a file, download the file\n",
        "            download_files(service, file_id, destination_path, file_name)\n",
        "\n",
        "# Start downloading the folder\n",
        "download_folder(drive_service, folder_id, destination_path)\n",
        "\n",
        "print(f'The folder has been downloaded to {destination_path}')\n"
      ]
    },
    {
      "cell_type": "code",
      "execution_count": null,
      "metadata": {
        "colab": {
          "base_uri": "https://localhost:8080/"
        },
        "id": "5GRqEJkN2Evz",
        "outputId": "28dc1a43-687f-455f-ce04-fa513a432670"
      },
      "outputs": [
        {
          "name": "stdout",
          "output_type": "stream",
          "text": [
            "Collecting emoji\n",
            "  Downloading emoji-2.10.0-py2.py3-none-any.whl (457 kB)\n",
            "\u001b[?25l     \u001b[90m━━━━━━━━━━━━━━━━━━━━━━━━━━━━━━━━━━━━━━━━\u001b[0m \u001b[32m0.0/457.9 kB\u001b[0m \u001b[31m?\u001b[0m eta \u001b[36m-:--:--\u001b[0m\r\u001b[2K     \u001b[91m━━━━━━━━━━━━━━━━━━━━━━━━━━━━━━━\u001b[0m\u001b[90m╺\u001b[0m\u001b[90m━━━━━━━━\u001b[0m \u001b[32m358.4/457.9 kB\u001b[0m \u001b[31m10.6 MB/s\u001b[0m eta \u001b[36m0:00:01\u001b[0m\r\u001b[2K     \u001b[90m━━━━━━━━━━━━━━━━━━━━━━━━━━━━━━━━━━━━━━━━\u001b[0m \u001b[32m457.9/457.9 kB\u001b[0m \u001b[31m9.5 MB/s\u001b[0m eta \u001b[36m0:00:00\u001b[0m\n",
            "\u001b[?25hInstalling collected packages: emoji\n",
            "Successfully installed emoji-2.10.0\n"
          ]
        }
      ],
      "source": [
        "%pip install emoji"
      ]
    },
    {
      "cell_type": "code",
      "execution_count": null,
      "metadata": {
        "id": "l2v7NdKycIjy"
      },
      "outputs": [],
      "source": [
        "# required libraries\n",
        "import numpy as np\n",
        "# pandas is a library using which we can work with ordered data - csv files in our case\n",
        "import pandas as pd\n",
        "# library for saving the trained models and the parameters of the pipeline\n",
        "import pickle\n",
        "import matplotlib.pyplot as plt\n",
        "import emoji\n",
        "\n",
        "import tensorflow as tf\n",
        "from keras.models import Sequential\n",
        "from keras.layers import Dense, LSTM, Embedding, Bidirectional, Dropout\n",
        "from keras.preprocessing.text import Tokenizer\n",
        "from keras.preprocessing.sequence import pad_sequences\n",
        "from tensorflow.keras.utils import to_categorical #one-hot encoding\n",
        "from imblearn.over_sampling import SMOTE #library to handle unbalanced datasets"
      ]
    },
    {
      "cell_type": "markdown",
      "metadata": {
        "id": "QwRB5YaFcwgB"
      },
      "source": [
        "# Loading Dataset"
      ]
    },
    {
      "cell_type": "markdown",
      "metadata": {
        "id": "isTeWZkSyfrW"
      },
      "source": [
        "## Explaining the data\n",
        "\n",
        "- Each emoji is given a label and this label is specified in **Mapping.csv**\n",
        "- **Train.csv** contains two significant columns, one of which contains **tweets** from **Twitter** and the second columns consists of the label for the corresponding emoji\n",
        "- **Test.csv** just contains the tweets for testing the model"
      ]
    },
    {
      "cell_type": "code",
      "execution_count": null,
      "metadata": {
        "colab": {
          "base_uri": "https://localhost:8080/"
        },
        "id": "jtpEKi_UcgCV",
        "outputId": "8be92ae6-f98e-40c3-f8d5-fcbfb6391ca2"
      },
      "outputs": [
        {
          "name": "stdout",
          "output_type": "stream",
          "text": [
            "<class 'pandas.core.frame.DataFrame'>\n",
            "RangeIndex: 70000 entries, 0 to 69999\n",
            "Data columns (total 2 columns):\n",
            " #   Column  Non-Null Count  Dtype \n",
            "---  ------  --------------  ----- \n",
            " 0   text    70000 non-null  object\n",
            " 1   label   70000 non-null  int64 \n",
            "dtypes: int64(1), object(1)\n",
            "memory usage: 1.1+ MB\n"
          ]
        }
      ],
      "source": [
        "train_file = '/content/twitter_dataset/Train.csv' #file path for the training dataset\n",
        "data = pd.read_csv(train_file)\n",
        "data.rename(columns={data.columns[0]:\"number\",\"TEXT\":\"text\",\"Label\":\"label\"},inplace=True) #renaming/adding column names\n",
        "data.drop(['number'],axis=1,inplace=True)\n",
        "data.info() # a brief summary of the data"
      ]
    },
    {
      "cell_type": "code",
      "execution_count": null,
      "metadata": {
        "colab": {
          "base_uri": "https://localhost:8080/",
          "height": 363
        },
        "id": "hDZDtvcmzbsz",
        "outputId": "2a15eef4-12e0-4d6d-b012-32af6f5f5093"
      },
      "outputs": [
        {
          "data": {
            "text/html": [
              "\n",
              "  <div id=\"df-8bd073ba-b5d9-4d63-ae0b-097be8fc1e41\" class=\"colab-df-container\">\n",
              "    <div>\n",
              "<style scoped>\n",
              "    .dataframe tbody tr th:only-of-type {\n",
              "        vertical-align: middle;\n",
              "    }\n",
              "\n",
              "    .dataframe tbody tr th {\n",
              "        vertical-align: top;\n",
              "    }\n",
              "\n",
              "    .dataframe thead th {\n",
              "        text-align: right;\n",
              "    }\n",
              "</style>\n",
              "<table border=\"1\" class=\"dataframe\">\n",
              "  <thead>\n",
              "    <tr style=\"text-align: right;\">\n",
              "      <th></th>\n",
              "      <th>text</th>\n",
              "      <th>label</th>\n",
              "    </tr>\n",
              "  </thead>\n",
              "  <tbody>\n",
              "    <tr>\n",
              "      <th>41976</th>\n",
              "      <td>The club closes but we ain't ready to Stop #Da...</td>\n",
              "      <td>11</td>\n",
              "    </tr>\n",
              "    <tr>\n",
              "      <th>43442</th>\n",
              "      <td>Airport flow like ........ #tourlife #bonethug...</td>\n",
              "      <td>19</td>\n",
              "    </tr>\n",
              "    <tr>\n",
              "      <th>15597</th>\n",
              "      <td>Skyline neoyorkino nocturno #acabodellegaryyaq...</td>\n",
              "      <td>2</td>\n",
              "    </tr>\n",
              "    <tr>\n",
              "      <th>43220</th>\n",
              "      <td>Laughs. The good, healthy ones #love #TFLers #...</td>\n",
              "      <td>10</td>\n",
              "    </tr>\n",
              "    <tr>\n",
              "      <th>12020</th>\n",
              "      <td>Beltline with my best bghegan @ Atlanta Beltli...</td>\n",
              "      <td>8</td>\n",
              "    </tr>\n",
              "    <tr>\n",
              "      <th>35441</th>\n",
              "      <td>@user found the prettiest neighborhood to take...</td>\n",
              "      <td>1</td>\n",
              "    </tr>\n",
              "    <tr>\n",
              "      <th>15001</th>\n",
              "      <td>#lit to the max @ North Philadelphia\\n</td>\n",
              "      <td>0</td>\n",
              "    </tr>\n",
              "    <tr>\n",
              "      <th>61296</th>\n",
              "      <td>JDM is so beautiful, wow @ Walker Stalker Con ...</td>\n",
              "      <td>2</td>\n",
              "    </tr>\n",
              "    <tr>\n",
              "      <th>27538</th>\n",
              "      <td>n_ntk see you next quarter #zombie_face @ Cal ...</td>\n",
              "      <td>3</td>\n",
              "    </tr>\n",
              "    <tr>\n",
              "      <th>52301</th>\n",
              "      <td>Tennis #usopen2017 #pinkshirt #whereiseverybod...</td>\n",
              "      <td>3</td>\n",
              "    </tr>\n",
              "  </tbody>\n",
              "</table>\n",
              "</div>\n",
              "    <div class=\"colab-df-buttons\">\n",
              "\n",
              "  <div class=\"colab-df-container\">\n",
              "    <button class=\"colab-df-convert\" onclick=\"convertToInteractive('df-8bd073ba-b5d9-4d63-ae0b-097be8fc1e41')\"\n",
              "            title=\"Convert this dataframe to an interactive table.\"\n",
              "            style=\"display:none;\">\n",
              "\n",
              "  <svg xmlns=\"http://www.w3.org/2000/svg\" height=\"24px\" viewBox=\"0 -960 960 960\">\n",
              "    <path d=\"M120-120v-720h720v720H120Zm60-500h600v-160H180v160Zm220 220h160v-160H400v160Zm0 220h160v-160H400v160ZM180-400h160v-160H180v160Zm440 0h160v-160H620v160ZM180-180h160v-160H180v160Zm440 0h160v-160H620v160Z\"/>\n",
              "  </svg>\n",
              "    </button>\n",
              "\n",
              "  <style>\n",
              "    .colab-df-container {\n",
              "      display:flex;\n",
              "      gap: 12px;\n",
              "    }\n",
              "\n",
              "    .colab-df-convert {\n",
              "      background-color: #E8F0FE;\n",
              "      border: none;\n",
              "      border-radius: 50%;\n",
              "      cursor: pointer;\n",
              "      display: none;\n",
              "      fill: #1967D2;\n",
              "      height: 32px;\n",
              "      padding: 0 0 0 0;\n",
              "      width: 32px;\n",
              "    }\n",
              "\n",
              "    .colab-df-convert:hover {\n",
              "      background-color: #E2EBFA;\n",
              "      box-shadow: 0px 1px 2px rgba(60, 64, 67, 0.3), 0px 1px 3px 1px rgba(60, 64, 67, 0.15);\n",
              "      fill: #174EA6;\n",
              "    }\n",
              "\n",
              "    .colab-df-buttons div {\n",
              "      margin-bottom: 4px;\n",
              "    }\n",
              "\n",
              "    [theme=dark] .colab-df-convert {\n",
              "      background-color: #3B4455;\n",
              "      fill: #D2E3FC;\n",
              "    }\n",
              "\n",
              "    [theme=dark] .colab-df-convert:hover {\n",
              "      background-color: #434B5C;\n",
              "      box-shadow: 0px 1px 3px 1px rgba(0, 0, 0, 0.15);\n",
              "      filter: drop-shadow(0px 1px 2px rgba(0, 0, 0, 0.3));\n",
              "      fill: #FFFFFF;\n",
              "    }\n",
              "  </style>\n",
              "\n",
              "    <script>\n",
              "      const buttonEl =\n",
              "        document.querySelector('#df-8bd073ba-b5d9-4d63-ae0b-097be8fc1e41 button.colab-df-convert');\n",
              "      buttonEl.style.display =\n",
              "        google.colab.kernel.accessAllowed ? 'block' : 'none';\n",
              "\n",
              "      async function convertToInteractive(key) {\n",
              "        const element = document.querySelector('#df-8bd073ba-b5d9-4d63-ae0b-097be8fc1e41');\n",
              "        const dataTable =\n",
              "          await google.colab.kernel.invokeFunction('convertToInteractive',\n",
              "                                                    [key], {});\n",
              "        if (!dataTable) return;\n",
              "\n",
              "        const docLinkHtml = 'Like what you see? Visit the ' +\n",
              "          '<a target=\"_blank\" href=https://colab.research.google.com/notebooks/data_table.ipynb>data table notebook</a>'\n",
              "          + ' to learn more about interactive tables.';\n",
              "        element.innerHTML = '';\n",
              "        dataTable['output_type'] = 'display_data';\n",
              "        await google.colab.output.renderOutput(dataTable, element);\n",
              "        const docLink = document.createElement('div');\n",
              "        docLink.innerHTML = docLinkHtml;\n",
              "        element.appendChild(docLink);\n",
              "      }\n",
              "    </script>\n",
              "  </div>\n",
              "\n",
              "\n",
              "<div id=\"df-77bc65de-f341-4fe6-b484-b64b4639a985\">\n",
              "  <button class=\"colab-df-quickchart\" onclick=\"quickchart('df-77bc65de-f341-4fe6-b484-b64b4639a985')\"\n",
              "            title=\"Suggest charts\"\n",
              "            style=\"display:none;\">\n",
              "\n",
              "<svg xmlns=\"http://www.w3.org/2000/svg\" height=\"24px\"viewBox=\"0 0 24 24\"\n",
              "     width=\"24px\">\n",
              "    <g>\n",
              "        <path d=\"M19 3H5c-1.1 0-2 .9-2 2v14c0 1.1.9 2 2 2h14c1.1 0 2-.9 2-2V5c0-1.1-.9-2-2-2zM9 17H7v-7h2v7zm4 0h-2V7h2v10zm4 0h-2v-4h2v4z\"/>\n",
              "    </g>\n",
              "</svg>\n",
              "  </button>\n",
              "\n",
              "<style>\n",
              "  .colab-df-quickchart {\n",
              "      --bg-color: #E8F0FE;\n",
              "      --fill-color: #1967D2;\n",
              "      --hover-bg-color: #E2EBFA;\n",
              "      --hover-fill-color: #174EA6;\n",
              "      --disabled-fill-color: #AAA;\n",
              "      --disabled-bg-color: #DDD;\n",
              "  }\n",
              "\n",
              "  [theme=dark] .colab-df-quickchart {\n",
              "      --bg-color: #3B4455;\n",
              "      --fill-color: #D2E3FC;\n",
              "      --hover-bg-color: #434B5C;\n",
              "      --hover-fill-color: #FFFFFF;\n",
              "      --disabled-bg-color: #3B4455;\n",
              "      --disabled-fill-color: #666;\n",
              "  }\n",
              "\n",
              "  .colab-df-quickchart {\n",
              "    background-color: var(--bg-color);\n",
              "    border: none;\n",
              "    border-radius: 50%;\n",
              "    cursor: pointer;\n",
              "    display: none;\n",
              "    fill: var(--fill-color);\n",
              "    height: 32px;\n",
              "    padding: 0;\n",
              "    width: 32px;\n",
              "  }\n",
              "\n",
              "  .colab-df-quickchart:hover {\n",
              "    background-color: var(--hover-bg-color);\n",
              "    box-shadow: 0 1px 2px rgba(60, 64, 67, 0.3), 0 1px 3px 1px rgba(60, 64, 67, 0.15);\n",
              "    fill: var(--button-hover-fill-color);\n",
              "  }\n",
              "\n",
              "  .colab-df-quickchart-complete:disabled,\n",
              "  .colab-df-quickchart-complete:disabled:hover {\n",
              "    background-color: var(--disabled-bg-color);\n",
              "    fill: var(--disabled-fill-color);\n",
              "    box-shadow: none;\n",
              "  }\n",
              "\n",
              "  .colab-df-spinner {\n",
              "    border: 2px solid var(--fill-color);\n",
              "    border-color: transparent;\n",
              "    border-bottom-color: var(--fill-color);\n",
              "    animation:\n",
              "      spin 1s steps(1) infinite;\n",
              "  }\n",
              "\n",
              "  @keyframes spin {\n",
              "    0% {\n",
              "      border-color: transparent;\n",
              "      border-bottom-color: var(--fill-color);\n",
              "      border-left-color: var(--fill-color);\n",
              "    }\n",
              "    20% {\n",
              "      border-color: transparent;\n",
              "      border-left-color: var(--fill-color);\n",
              "      border-top-color: var(--fill-color);\n",
              "    }\n",
              "    30% {\n",
              "      border-color: transparent;\n",
              "      border-left-color: var(--fill-color);\n",
              "      border-top-color: var(--fill-color);\n",
              "      border-right-color: var(--fill-color);\n",
              "    }\n",
              "    40% {\n",
              "      border-color: transparent;\n",
              "      border-right-color: var(--fill-color);\n",
              "      border-top-color: var(--fill-color);\n",
              "    }\n",
              "    60% {\n",
              "      border-color: transparent;\n",
              "      border-right-color: var(--fill-color);\n",
              "    }\n",
              "    80% {\n",
              "      border-color: transparent;\n",
              "      border-right-color: var(--fill-color);\n",
              "      border-bottom-color: var(--fill-color);\n",
              "    }\n",
              "    90% {\n",
              "      border-color: transparent;\n",
              "      border-bottom-color: var(--fill-color);\n",
              "    }\n",
              "  }\n",
              "</style>\n",
              "\n",
              "  <script>\n",
              "    async function quickchart(key) {\n",
              "      const quickchartButtonEl =\n",
              "        document.querySelector('#' + key + ' button');\n",
              "      quickchartButtonEl.disabled = true;  // To prevent multiple clicks.\n",
              "      quickchartButtonEl.classList.add('colab-df-spinner');\n",
              "      try {\n",
              "        const charts = await google.colab.kernel.invokeFunction(\n",
              "            'suggestCharts', [key], {});\n",
              "      } catch (error) {\n",
              "        console.error('Error during call to suggestCharts:', error);\n",
              "      }\n",
              "      quickchartButtonEl.classList.remove('colab-df-spinner');\n",
              "      quickchartButtonEl.classList.add('colab-df-quickchart-complete');\n",
              "    }\n",
              "    (() => {\n",
              "      let quickchartButtonEl =\n",
              "        document.querySelector('#df-77bc65de-f341-4fe6-b484-b64b4639a985 button');\n",
              "      quickchartButtonEl.style.display =\n",
              "        google.colab.kernel.accessAllowed ? 'block' : 'none';\n",
              "    })();\n",
              "  </script>\n",
              "</div>\n",
              "    </div>\n",
              "  </div>\n"
            ],
            "text/plain": [
              "                                                    text  label\n",
              "41976  The club closes but we ain't ready to Stop #Da...     11\n",
              "43442  Airport flow like ........ #tourlife #bonethug...     19\n",
              "15597  Skyline neoyorkino nocturno #acabodellegaryyaq...      2\n",
              "43220  Laughs. The good, healthy ones #love #TFLers #...     10\n",
              "12020  Beltline with my best bghegan @ Atlanta Beltli...      8\n",
              "35441  @user found the prettiest neighborhood to take...      1\n",
              "15001             #lit to the max @ North Philadelphia\\n      0\n",
              "61296  JDM is so beautiful, wow @ Walker Stalker Con ...      2\n",
              "27538  n_ntk see you next quarter #zombie_face @ Cal ...      3\n",
              "52301  Tennis #usopen2017 #pinkshirt #whereiseverybod...      3"
            ]
          },
          "execution_count": 5,
          "metadata": {},
          "output_type": "execute_result"
        }
      ],
      "source": [
        "data.sample(10) #sampling 10 datapoints at random"
      ]
    },
    {
      "cell_type": "code",
      "execution_count": null,
      "metadata": {
        "colab": {
          "base_uri": "https://localhost:8080/"
        },
        "id": "pJsIqoqxdOHk",
        "outputId": "5bcd5570-f3b9-43b8-af86-0f04e55b5922"
      },
      "outputs": [
        {
          "name": "stdout",
          "output_type": "stream",
          "text": [
            "<class 'pandas.core.frame.DataFrame'>\n",
            "RangeIndex: 20 entries, 0 to 19\n",
            "Data columns (total 2 columns):\n",
            " #   Column  Non-Null Count  Dtype \n",
            "---  ------  --------------  ----- \n",
            " 0   emoji   20 non-null     object\n",
            " 1   label   20 non-null     int64 \n",
            "dtypes: int64(1), object(1)\n",
            "memory usage: 448.0+ bytes\n"
          ]
        }
      ],
      "source": [
        "mapping_file = '/content/twitter_dataset/Mapping.csv' #file path for mapping from emoji-label to actual emoji\n",
        "emoji_mapping = pd.read_csv(mapping_file)\n",
        "emoji_mapping.rename(columns={emoji_mapping.columns[0]:\"number\",\"emoticons\":\"emoji\",\"number\":\"label\"},inplace=True)\n",
        "emoji_mapping.drop(['number'],axis=1,inplace=True)\n",
        "emoji_mapping.info()"
      ]
    },
    {
      "cell_type": "code",
      "execution_count": null,
      "metadata": {
        "colab": {
          "base_uri": "https://localhost:8080/",
          "height": 676
        },
        "id": "LOK49vmE0z37",
        "outputId": "7b913140-392a-493c-8b24-389577d68a7f"
      },
      "outputs": [
        {
          "data": {
            "text/html": [
              "\n",
              "  <div id=\"df-0d753ff7-cf7d-4866-bf94-553f243816b5\" class=\"colab-df-container\">\n",
              "    <div>\n",
              "<style scoped>\n",
              "    .dataframe tbody tr th:only-of-type {\n",
              "        vertical-align: middle;\n",
              "    }\n",
              "\n",
              "    .dataframe tbody tr th {\n",
              "        vertical-align: top;\n",
              "    }\n",
              "\n",
              "    .dataframe thead th {\n",
              "        text-align: right;\n",
              "    }\n",
              "</style>\n",
              "<table border=\"1\" class=\"dataframe\">\n",
              "  <thead>\n",
              "    <tr style=\"text-align: right;\">\n",
              "      <th></th>\n",
              "      <th>emoji</th>\n",
              "      <th>label</th>\n",
              "    </tr>\n",
              "  </thead>\n",
              "  <tbody>\n",
              "    <tr>\n",
              "      <th>0</th>\n",
              "      <td>😜</td>\n",
              "      <td>0</td>\n",
              "    </tr>\n",
              "    <tr>\n",
              "      <th>1</th>\n",
              "      <td>📸</td>\n",
              "      <td>1</td>\n",
              "    </tr>\n",
              "    <tr>\n",
              "      <th>2</th>\n",
              "      <td>😍</td>\n",
              "      <td>2</td>\n",
              "    </tr>\n",
              "    <tr>\n",
              "      <th>3</th>\n",
              "      <td>😂</td>\n",
              "      <td>3</td>\n",
              "    </tr>\n",
              "    <tr>\n",
              "      <th>4</th>\n",
              "      <td>😉</td>\n",
              "      <td>4</td>\n",
              "    </tr>\n",
              "    <tr>\n",
              "      <th>5</th>\n",
              "      <td>🎄</td>\n",
              "      <td>5</td>\n",
              "    </tr>\n",
              "    <tr>\n",
              "      <th>6</th>\n",
              "      <td>📷</td>\n",
              "      <td>6</td>\n",
              "    </tr>\n",
              "    <tr>\n",
              "      <th>7</th>\n",
              "      <td>🔥</td>\n",
              "      <td>7</td>\n",
              "    </tr>\n",
              "    <tr>\n",
              "      <th>8</th>\n",
              "      <td>😘</td>\n",
              "      <td>8</td>\n",
              "    </tr>\n",
              "    <tr>\n",
              "      <th>9</th>\n",
              "      <td>❤</td>\n",
              "      <td>9</td>\n",
              "    </tr>\n",
              "    <tr>\n",
              "      <th>10</th>\n",
              "      <td>😁</td>\n",
              "      <td>10</td>\n",
              "    </tr>\n",
              "    <tr>\n",
              "      <th>11</th>\n",
              "      <td>🇺🇸</td>\n",
              "      <td>11</td>\n",
              "    </tr>\n",
              "    <tr>\n",
              "      <th>12</th>\n",
              "      <td>☀</td>\n",
              "      <td>12</td>\n",
              "    </tr>\n",
              "    <tr>\n",
              "      <th>13</th>\n",
              "      <td>✨</td>\n",
              "      <td>13</td>\n",
              "    </tr>\n",
              "    <tr>\n",
              "      <th>14</th>\n",
              "      <td>💙</td>\n",
              "      <td>14</td>\n",
              "    </tr>\n",
              "    <tr>\n",
              "      <th>15</th>\n",
              "      <td>💕</td>\n",
              "      <td>15</td>\n",
              "    </tr>\n",
              "    <tr>\n",
              "      <th>16</th>\n",
              "      <td>😎</td>\n",
              "      <td>16</td>\n",
              "    </tr>\n",
              "    <tr>\n",
              "      <th>17</th>\n",
              "      <td>😊</td>\n",
              "      <td>17</td>\n",
              "    </tr>\n",
              "    <tr>\n",
              "      <th>18</th>\n",
              "      <td>💜</td>\n",
              "      <td>18</td>\n",
              "    </tr>\n",
              "    <tr>\n",
              "      <th>19</th>\n",
              "      <td>💯</td>\n",
              "      <td>19</td>\n",
              "    </tr>\n",
              "  </tbody>\n",
              "</table>\n",
              "</div>\n",
              "    <div class=\"colab-df-buttons\">\n",
              "\n",
              "  <div class=\"colab-df-container\">\n",
              "    <button class=\"colab-df-convert\" onclick=\"convertToInteractive('df-0d753ff7-cf7d-4866-bf94-553f243816b5')\"\n",
              "            title=\"Convert this dataframe to an interactive table.\"\n",
              "            style=\"display:none;\">\n",
              "\n",
              "  <svg xmlns=\"http://www.w3.org/2000/svg\" height=\"24px\" viewBox=\"0 -960 960 960\">\n",
              "    <path d=\"M120-120v-720h720v720H120Zm60-500h600v-160H180v160Zm220 220h160v-160H400v160Zm0 220h160v-160H400v160ZM180-400h160v-160H180v160Zm440 0h160v-160H620v160ZM180-180h160v-160H180v160Zm440 0h160v-160H620v160Z\"/>\n",
              "  </svg>\n",
              "    </button>\n",
              "\n",
              "  <style>\n",
              "    .colab-df-container {\n",
              "      display:flex;\n",
              "      gap: 12px;\n",
              "    }\n",
              "\n",
              "    .colab-df-convert {\n",
              "      background-color: #E8F0FE;\n",
              "      border: none;\n",
              "      border-radius: 50%;\n",
              "      cursor: pointer;\n",
              "      display: none;\n",
              "      fill: #1967D2;\n",
              "      height: 32px;\n",
              "      padding: 0 0 0 0;\n",
              "      width: 32px;\n",
              "    }\n",
              "\n",
              "    .colab-df-convert:hover {\n",
              "      background-color: #E2EBFA;\n",
              "      box-shadow: 0px 1px 2px rgba(60, 64, 67, 0.3), 0px 1px 3px 1px rgba(60, 64, 67, 0.15);\n",
              "      fill: #174EA6;\n",
              "    }\n",
              "\n",
              "    .colab-df-buttons div {\n",
              "      margin-bottom: 4px;\n",
              "    }\n",
              "\n",
              "    [theme=dark] .colab-df-convert {\n",
              "      background-color: #3B4455;\n",
              "      fill: #D2E3FC;\n",
              "    }\n",
              "\n",
              "    [theme=dark] .colab-df-convert:hover {\n",
              "      background-color: #434B5C;\n",
              "      box-shadow: 0px 1px 3px 1px rgba(0, 0, 0, 0.15);\n",
              "      filter: drop-shadow(0px 1px 2px rgba(0, 0, 0, 0.3));\n",
              "      fill: #FFFFFF;\n",
              "    }\n",
              "  </style>\n",
              "\n",
              "    <script>\n",
              "      const buttonEl =\n",
              "        document.querySelector('#df-0d753ff7-cf7d-4866-bf94-553f243816b5 button.colab-df-convert');\n",
              "      buttonEl.style.display =\n",
              "        google.colab.kernel.accessAllowed ? 'block' : 'none';\n",
              "\n",
              "      async function convertToInteractive(key) {\n",
              "        const element = document.querySelector('#df-0d753ff7-cf7d-4866-bf94-553f243816b5');\n",
              "        const dataTable =\n",
              "          await google.colab.kernel.invokeFunction('convertToInteractive',\n",
              "                                                    [key], {});\n",
              "        if (!dataTable) return;\n",
              "\n",
              "        const docLinkHtml = 'Like what you see? Visit the ' +\n",
              "          '<a target=\"_blank\" href=https://colab.research.google.com/notebooks/data_table.ipynb>data table notebook</a>'\n",
              "          + ' to learn more about interactive tables.';\n",
              "        element.innerHTML = '';\n",
              "        dataTable['output_type'] = 'display_data';\n",
              "        await google.colab.output.renderOutput(dataTable, element);\n",
              "        const docLink = document.createElement('div');\n",
              "        docLink.innerHTML = docLinkHtml;\n",
              "        element.appendChild(docLink);\n",
              "      }\n",
              "    </script>\n",
              "  </div>\n",
              "\n",
              "\n",
              "<div id=\"df-e6783e0f-0e1d-46f9-af33-a5c4da9c55df\">\n",
              "  <button class=\"colab-df-quickchart\" onclick=\"quickchart('df-e6783e0f-0e1d-46f9-af33-a5c4da9c55df')\"\n",
              "            title=\"Suggest charts\"\n",
              "            style=\"display:none;\">\n",
              "\n",
              "<svg xmlns=\"http://www.w3.org/2000/svg\" height=\"24px\"viewBox=\"0 0 24 24\"\n",
              "     width=\"24px\">\n",
              "    <g>\n",
              "        <path d=\"M19 3H5c-1.1 0-2 .9-2 2v14c0 1.1.9 2 2 2h14c1.1 0 2-.9 2-2V5c0-1.1-.9-2-2-2zM9 17H7v-7h2v7zm4 0h-2V7h2v10zm4 0h-2v-4h2v4z\"/>\n",
              "    </g>\n",
              "</svg>\n",
              "  </button>\n",
              "\n",
              "<style>\n",
              "  .colab-df-quickchart {\n",
              "      --bg-color: #E8F0FE;\n",
              "      --fill-color: #1967D2;\n",
              "      --hover-bg-color: #E2EBFA;\n",
              "      --hover-fill-color: #174EA6;\n",
              "      --disabled-fill-color: #AAA;\n",
              "      --disabled-bg-color: #DDD;\n",
              "  }\n",
              "\n",
              "  [theme=dark] .colab-df-quickchart {\n",
              "      --bg-color: #3B4455;\n",
              "      --fill-color: #D2E3FC;\n",
              "      --hover-bg-color: #434B5C;\n",
              "      --hover-fill-color: #FFFFFF;\n",
              "      --disabled-bg-color: #3B4455;\n",
              "      --disabled-fill-color: #666;\n",
              "  }\n",
              "\n",
              "  .colab-df-quickchart {\n",
              "    background-color: var(--bg-color);\n",
              "    border: none;\n",
              "    border-radius: 50%;\n",
              "    cursor: pointer;\n",
              "    display: none;\n",
              "    fill: var(--fill-color);\n",
              "    height: 32px;\n",
              "    padding: 0;\n",
              "    width: 32px;\n",
              "  }\n",
              "\n",
              "  .colab-df-quickchart:hover {\n",
              "    background-color: var(--hover-bg-color);\n",
              "    box-shadow: 0 1px 2px rgba(60, 64, 67, 0.3), 0 1px 3px 1px rgba(60, 64, 67, 0.15);\n",
              "    fill: var(--button-hover-fill-color);\n",
              "  }\n",
              "\n",
              "  .colab-df-quickchart-complete:disabled,\n",
              "  .colab-df-quickchart-complete:disabled:hover {\n",
              "    background-color: var(--disabled-bg-color);\n",
              "    fill: var(--disabled-fill-color);\n",
              "    box-shadow: none;\n",
              "  }\n",
              "\n",
              "  .colab-df-spinner {\n",
              "    border: 2px solid var(--fill-color);\n",
              "    border-color: transparent;\n",
              "    border-bottom-color: var(--fill-color);\n",
              "    animation:\n",
              "      spin 1s steps(1) infinite;\n",
              "  }\n",
              "\n",
              "  @keyframes spin {\n",
              "    0% {\n",
              "      border-color: transparent;\n",
              "      border-bottom-color: var(--fill-color);\n",
              "      border-left-color: var(--fill-color);\n",
              "    }\n",
              "    20% {\n",
              "      border-color: transparent;\n",
              "      border-left-color: var(--fill-color);\n",
              "      border-top-color: var(--fill-color);\n",
              "    }\n",
              "    30% {\n",
              "      border-color: transparent;\n",
              "      border-left-color: var(--fill-color);\n",
              "      border-top-color: var(--fill-color);\n",
              "      border-right-color: var(--fill-color);\n",
              "    }\n",
              "    40% {\n",
              "      border-color: transparent;\n",
              "      border-right-color: var(--fill-color);\n",
              "      border-top-color: var(--fill-color);\n",
              "    }\n",
              "    60% {\n",
              "      border-color: transparent;\n",
              "      border-right-color: var(--fill-color);\n",
              "    }\n",
              "    80% {\n",
              "      border-color: transparent;\n",
              "      border-right-color: var(--fill-color);\n",
              "      border-bottom-color: var(--fill-color);\n",
              "    }\n",
              "    90% {\n",
              "      border-color: transparent;\n",
              "      border-bottom-color: var(--fill-color);\n",
              "    }\n",
              "  }\n",
              "</style>\n",
              "\n",
              "  <script>\n",
              "    async function quickchart(key) {\n",
              "      const quickchartButtonEl =\n",
              "        document.querySelector('#' + key + ' button');\n",
              "      quickchartButtonEl.disabled = true;  // To prevent multiple clicks.\n",
              "      quickchartButtonEl.classList.add('colab-df-spinner');\n",
              "      try {\n",
              "        const charts = await google.colab.kernel.invokeFunction(\n",
              "            'suggestCharts', [key], {});\n",
              "      } catch (error) {\n",
              "        console.error('Error during call to suggestCharts:', error);\n",
              "      }\n",
              "      quickchartButtonEl.classList.remove('colab-df-spinner');\n",
              "      quickchartButtonEl.classList.add('colab-df-quickchart-complete');\n",
              "    }\n",
              "    (() => {\n",
              "      let quickchartButtonEl =\n",
              "        document.querySelector('#df-e6783e0f-0e1d-46f9-af33-a5c4da9c55df button');\n",
              "      quickchartButtonEl.style.display =\n",
              "        google.colab.kernel.accessAllowed ? 'block' : 'none';\n",
              "    })();\n",
              "  </script>\n",
              "</div>\n",
              "    </div>\n",
              "  </div>\n"
            ],
            "text/plain": [
              "   emoji  label\n",
              "0      😜      0\n",
              "1      📸      1\n",
              "2      😍      2\n",
              "3      😂      3\n",
              "4      😉      4\n",
              "5      🎄      5\n",
              "6      📷      6\n",
              "7      🔥      7\n",
              "8      😘      8\n",
              "9      ❤      9\n",
              "10     😁     10\n",
              "11    🇺🇸     11\n",
              "12     ☀     12\n",
              "13     ✨     13\n",
              "14     💙     14\n",
              "15     💕     15\n",
              "16     😎     16\n",
              "17     😊     17\n",
              "18     💜     18\n",
              "19     💯     19"
            ]
          },
          "execution_count": 7,
          "metadata": {},
          "output_type": "execute_result"
        }
      ],
      "source": [
        "emoji_mapping #listing the different emojis and their labels"
      ]
    },
    {
      "cell_type": "markdown",
      "metadata": {
        "id": "AKHdc6PIdTS8"
      },
      "source": [
        "# Input Pre-Processing\n",
        "\n",
        "- Steps taken for input-preprocessing\n",
        "- We need to remove '#'(hashtags) '@'(mentions) from the dataset and also convert all the words to lowercase for better performance when using pre-trained word-embedding values\n",
        "- We need to convert the string-stream to a number-stream for the model to work with. This technique is known as **Tokenization**. Each token is a number which acts as an index for that word in the word-embedding matrix\n",
        "- Next we convert the token-stream into corresponding word-embedding vector form\n",
        "- We need to convert each output label to a one-hot encoding scheme"
      ]
    },
    {
      "cell_type": "code",
      "execution_count": null,
      "metadata": {
        "id": "Zze4wLVJdRSQ"
      },
      "outputs": [],
      "source": [
        "X = data[\"text\"].values #extracting the tweets\n",
        "Y = data[\"label\"].values #extracting the corresponding emoji-labels"
      ]
    },
    {
      "cell_type": "code",
      "execution_count": null,
      "metadata": {
        "colab": {
          "base_uri": "https://localhost:8080/",
          "height": 472
        },
        "id": "KhNeU9aCdXOx",
        "outputId": "15affadb-9043-4c48-ce8f-e1422bd823ad"
      },
      "outputs": [
        {
          "data": {
            "image/png": "[encoded data removed]",
            "text/plain": [
              "<Figure size 640x480 with 1 Axes>"
            ]
          },
          "metadata": {},
          "output_type": "display_data"
        }
      ],
      "source": [
        "vals, counts = np.unique(Y, return_counts=True) #\n",
        "plt.bar(vals,counts)\n",
        "plt.xticks(vals)\n",
        "plt.xlabel('Emoji Label')\n",
        "plt.ylabel('#Data points')\n",
        "plt.title('Emoji Label vs Number of Data points')\n",
        "plt.show()"
      ]
    },
    {
      "cell_type": "markdown",
      "metadata": {
        "id": "xHZbAmUFX_QI"
      },
      "source": [
        "# One Hot Encoding\n",
        "\n",
        "- One-Hot Encoding is a technique to represent the label to be predicted in case of a multi-class classfication\n",
        "- Basically we create a n-d binary output vector where n is the number of possible classes (20 in our case)\n",
        "- In this encoding scheme, if a data-point x corresponds to yth class, then the value corresponding to the yth dimension is set to 1 whereas values for other dimensions are set to 0\n",
        "- For example if there are a total of 5 classes and an input x belongs to 4th class then the output vector is (0,0,0,1,0)\n",
        "- But why do we do this?\n",
        "- We cannot simply label one emoji as 1 and the second as 2, because this implies that the second emoji is in some sense greater than first emoji. In other words labelling as 1 and 2 gives some ordinal relation to the labels and implies an inherent ordering. Hence we use one-hot encoding which does not give any ordering-preference to any label."
      ]
    },
    {
      "cell_type": "code",
      "execution_count": null,
      "metadata": {
        "id": "1xijbX8qdZHP"
      },
      "outputs": [],
      "source": [
        "Ytrain = to_categorical(Y) #converts all the training output vectors to one-hot encoding"
      ]
    },
    {
      "cell_type": "code",
      "execution_count": null,
      "metadata": {
        "id": "CGcB_MBrdbE9"
      },
      "outputs": [],
      "source": [
        "#removing hashtags, mentions, links\n",
        "def clean(X):\n",
        "    X = X.replace(\"#\",\"\") #remove '#' from words\n",
        "    X = X.replace(\"@\",\"\") #remove '@' from mentions\n",
        "    X = X.replace(\"http://\",\"\") #remove links\n",
        "    X = X.replace(\"https://\",\"\") #remove links\n",
        "    X = X.lower() #changing everything to lowercase\n",
        "    return X"
      ]
    },
    {
      "cell_type": "code",
      "execution_count": null,
      "metadata": {
        "id": "g9fmBEZ0dc0L"
      },
      "outputs": [],
      "source": [
        "#clean the data - basically remove all '#', '@' and links from the text\n",
        "X = np.array([clean(x) for x in X])"
      ]
    },
    {
      "cell_type": "markdown",
      "metadata": {
        "id": "m42iOX99dhRP"
      },
      "source": [
        "# Tokenization\n",
        "\n",
        "- Here we use a simple tokenizer which splits a text into space seperated words and then assigns numbers to the tokens\n",
        "- We need to fit this tokenizer on the training dataset and can also save this fitted tokeinzer using the pickle library"
      ]
    },
    {
      "cell_type": "code",
      "execution_count": null,
      "metadata": {
        "colab": {
          "base_uri": "https://localhost:8080/"
        },
        "id": "OlG2IkdDdeb4",
        "outputId": "e88ee3e3-da68-4055-8727-464d729561bc"
      },
      "outputs": [
        {
          "name": "stdout",
          "output_type": "stream",
          "text": [
            "The tokenizer has been fitted on 85877 words\n",
            "Printing some word:token pairs\n",
            "[('OOV', 1), ('the', 2), ('user', 3), ('my', 4), ('to', 5)]\n"
          ]
        }
      ],
      "source": [
        "tokenizer = Tokenizer(oov_token='OOV')\n",
        "tokenizer.fit_on_texts(X) #fitting the tokenizer on the training data\n",
        "wrd_index = tokenizer.word_index #dictionary with key as the word and the value as the index (word:index)\n",
        "print(\"The tokenizer has been fitted on\", len(wrd_index),\"words\")\n",
        "print(\"Printing some word:token pairs\")\n",
        "print(list(wrd_index.items())[:5])"
      ]
    },
    {
      "cell_type": "markdown",
      "metadata": {
        "id": "aeD3WbUjzwHb"
      },
      "source": [
        "Now we need to convert the training data which is currently a stream of strings into a stream of tokens where tokens are just numbers which correspond to that particular word in **wrd_index** dictionary"
      ]
    },
    {
      "cell_type": "code",
      "execution_count": null,
      "metadata": {
        "colab": {
          "base_uri": "https://localhost:8080/"
        },
        "id": "AaM2aaQXdjqf",
        "outputId": "a1b11355-19d1-45f6-fe2c-76fddccfc917"
      },
      "outputs": [
        {
          "data": {
            "text/plain": [
              "([[652, 6413, 15974, 5425, 1768, 24448, 24449, 152, 1413, 311],\n",
              "  [214, 1372, 1188, 23, 634, 3, 1372, 203, 24450, 1373, 508, 10179]],\n",
              " array(['vacation wasted ! vacation2017 photobomb tired vacationwasted mcgar30 miami  port of…\\n',\n",
              "        'oh wynwood, you’re so funny! : user wynwood art itwas3am flowers vibes  wynwood…\\n'],\n",
              "       dtype='<U167'))"
            ]
          },
          "execution_count": 17,
          "metadata": {},
          "output_type": "execute_result"
        }
      ],
      "source": [
        "X_tokens = tokenizer.texts_to_sequences(X) #convert the strings to tokens\n",
        "X_tokens[:2],X[:2]"
      ]
    },
    {
      "cell_type": "markdown",
      "metadata": {
        "id": "awHeLKaz0C-z"
      },
      "source": [
        "- Inorder to reduce the model complexity of the model we take a fixed sized input.\n",
        "Inorder to do this we restrict the size of the input string to 20.\n",
        "If the input token stream has more than 20 tokens then it is trimmed to the first 20 tokens and if the token stream has less than 20 tokens then it is suffixed with special token(s)/(0 token(s))\n",
        "- Fixing the size of the input string also helps training a model faster as it enables **Batch Processing** where we can conveniently represent data as a fixed-sized matrix and efficiently use the hardware resources to parallely do the required computations."
      ]
    },
    {
      "cell_type": "code",
      "execution_count": null,
      "metadata": {
        "colab": {
          "base_uri": "https://localhost:8080/"
        },
        "id": "gVItHhftdk3z",
        "outputId": "d83b2f94-965a-47a5-eb45-0fa3450d5fcb"
      },
      "outputs": [
        {
          "data": {
            "text/plain": [
              "array([  214,  1372,  1188,    23,   634,     3,  1372,   203, 24450,\n",
              "        1373,   508, 10179,     0,     0,     0,     0,     0,     0,\n",
              "           0,     0], dtype=int32)"
            ]
          },
          "execution_count": 19,
          "metadata": {},
          "output_type": "execute_result"
        }
      ],
      "source": [
        "#padding the input string\n",
        "max_len = 20\n",
        "Xtrain = pad_sequences(X_tokens,maxlen=max_len,padding='post')\n",
        "Xtrain[1]"
      ]
    },
    {
      "cell_type": "code",
      "execution_count": null,
      "metadata": {
        "colab": {
          "base_uri": "https://localhost:8080/"
        },
        "id": "-GHs8RVvbjFP",
        "outputId": "2dc3de56-3d73-40ed-ec48-4e341b64a89b"
      },
      "outputs": [
        {
          "name": "stdout",
          "output_type": "stream",
          "text": [
            "Mounted at /content/drive\n"
          ]
        }
      ],
      "source": [
        "# saving the tokenizer for further use\n",
        "# we can save the trained tokenizer using this block of code - note that for this path of the file you will first have to mount your google drive on this colab session\n",
        "# from google.colab import drive\n",
        "\n",
        "# drive.mount('/content/drive')\n",
        "# with open('/content/drive/MyDrive/twitter_dataset/assets/tokenizer.pkl', 'wb') as file:\n",
        "#      pickle.dump(tokenizer, file)"
      ]
    },
    {
      "cell_type": "markdown",
      "metadata": {
        "id": "vsaI3Geadn3o"
      },
      "source": [
        "# Word Embedding: GloVe\n",
        "\n",
        "- Word Embeddings are basically a fixed dimensional vector where similar words have a similar vector representation.\n",
        "- For example the word 'good' and 'awesome' have similar vector representation\n",
        "- In some word embedding techniques the same word might have different vector representation based on the context of that word in that sentence\n",
        "- For example the word **bank** has different meanings in these two sentences\n",
        "- 'I went to the bank to deposit my paycheck'\n",
        "- 'I sat by the bank of the river and enjoyed the view'\n",
        "- For this session we are using a pre-trained GloVe word embedding which is not a **contextual embedding**\n",
        "- Example of a **contextual embedding** technique is Word2Vec"
      ]
    },
    {
      "cell_type": "code",
      "execution_count": null,
      "metadata": {
        "id": "2UirkfmWccn9"
      },
      "outputs": [],
      "source": [
        "file_path = '/content/twitter_dataset/glove.6B.50d.txt' #path for the file which contains the vector embeddings for different words"
      ]
    },
    {
      "cell_type": "code",
      "execution_count": null,
      "metadata": {
        "id": "sdQZXRDsdmqR"
      },
      "outputs": [],
      "source": [
        "file = open(file_path,encoding='utf-8')\n",
        "_ = file.readlines()\n",
        "file.close()"
      ]
    },
    {
      "cell_type": "code",
      "execution_count": null,
      "metadata": {
        "id": "d-FkbvCsdsKu"
      },
      "outputs": [],
      "source": [
        "#load all the vector embeddings in the file\n",
        "embeddings = {}\n",
        "for line in _ :\n",
        "    l = line.split()\n",
        "    embeddings[l[0]] = np.asarray(l[1:],dtype='float32')\n",
        "embeddings"
      ]
    },
    {
      "cell_type": "code",
      "execution_count": null,
      "metadata": {
        "id": "9iz2Xnt6dtw4"
      },
      "outputs": [],
      "source": [
        "#recover the vector embeddings for the words used in the training set\n",
        "emb_size = 50 #this is the dimension of the vector representation - basically each word is represented by a 50d vector\n",
        "emb_matrix = np.zeros((len(wrd_index)+1,emb_size))\n",
        "for wrd, i in wrd_index.items(): #here we fill the embedding matrix according to the words in the training dataset\n",
        "    emb_vec = embeddings.get(wrd)\n",
        "    if emb_vec is not None:\n",
        "        emb_matrix[i] = emb_vec"
      ]
    },
    {
      "cell_type": "code",
      "execution_count": null,
      "metadata": {
        "id": "oAL3aI9ZdlUX"
      },
      "outputs": [],
      "source": [
        "# storing the embedding matrix\n",
        "# we can also store this embedding matrix using pickle for any further use\n",
        "# with open('/content/drive/MyDrive/twitter_dataset/assets/embMat.pkl','wb') as file:\n",
        "#   pickle.dump(emb_matrix,file)"
      ]
    },
    {
      "cell_type": "code",
      "execution_count": null,
      "metadata": {
        "id": "HyquL5ENSl-Z"
      },
      "outputs": [],
      "source": [
        "def tokens_to_embedding(tokens):\n",
        "  emb_vec = np.zeros((tokens.shape[0],max_len,emb_size))\n",
        "  emb_matrix_size = len(emb_matrix)\n",
        "  for j in range(len(tokens)):\n",
        "    for i in range(len(tokens[j])):\n",
        "      token = tokens[j][i]\n",
        "      if(token<emb_matrix_size):\n",
        "        emb_vec[j][i]=emb_matrix[token]\n",
        "  return emb_vec"
      ]
    },
    {
      "cell_type": "code",
      "execution_count": null,
      "metadata": {
        "colab": {
          "base_uri": "https://localhost:8080/",
          "height": 472
        },
        "id": "H5y8Novz71bb",
        "outputId": "1163fd16-88ea-4b9f-c74a-fea37037e8e6"
      },
      "outputs": [
        {
          "data": {
            "image/png": "[encoded data removed]",
            "text/plain": [
              "<Figure size 640x480 with 1 Axes>"
            ]
          },
          "metadata": {},
          "output_type": "display_data"
        }
      ],
      "source": [
        "plt.bar(vals,counts)\n",
        "plt.xticks(vals)\n",
        "plt.xlabel('Emoji Label')\n",
        "plt.ylabel('# of Data Points')\n",
        "plt.title('Emoji Label vs # of Data Points')\n",
        "plt.show()"
      ]
    },
    {
      "cell_type": "markdown",
      "metadata": {
        "id": "4b97HcvXnXaa"
      },
      "source": [
        "# SMOTE For Oversampling\n",
        "\n",
        "- As we can see in the bar-graph below that the dataset is highly imbalanced as some of the emoji classes have a high representation in the training dataset whereas some of them do not have a high representation in the training dataset\n",
        "- Inorder to handle this imbalance in dataset we use a technique known as **SMOTE** which stands for '**S**ynthetic **M**inority **O**versampling **Te**chnique'\n",
        "- Basically using this technique we can create synthetic datapoints using the datapoints in the training dataset which are similar to the minority class samples\n",
        "- The goal is to provide the learning algorithm with a more balanced set of examples\n",
        "\n",
        "Before SMOTE\n",
        "\n",
        "<img src=\"https://machinelearningmastery.com/wp-content/uploads/2019/10/Scatter-Plot-of-Imbalanced-Binary-Classification-Problem.png\" width=\"500\"/>\n",
        "\n",
        "After SMOTE\n",
        "\n",
        "<img src=\"https://machinelearningmastery.com/wp-content/uploads/2019/10/Scatter-Plot-of-Imbalanced-Binary-Classification-Problem-Transformed-by-SMOTE.png\" width=\"500\"/>"
      ]
    },
    {
      "cell_type": "code",
      "execution_count": null,
      "metadata": {
        "id": "tLK1nJTvRxe8"
      },
      "outputs": [],
      "source": [
        "#First we need to convert the token stream to corresponding vector representation\n",
        "Xtrain = tokens_to_embedding(Xtrain)"
      ]
    },
    {
      "cell_type": "code",
      "execution_count": null,
      "metadata": {
        "id": "ccUBcZJMU5NO"
      },
      "outputs": [],
      "source": [
        "#flattening the entire training dataset into a 2d-array basically\n",
        "#basically before flattening each datapoint was a 20X50 matrix and now we flatten it to a 1000sized single dimensional array\n",
        "#we are flattening the datapoints because for applying SMOTE technique each datapoint should be a vector and not a matrix\n",
        "Xtrain = Xtrain.reshape(Xtrain.shape[0],-1)"
      ]
    },
    {
      "cell_type": "code",
      "execution_count": null,
      "metadata": {
        "id": "R_msNmMPnaT3"
      },
      "outputs": [],
      "source": [
        "sm = SMOTE() #applying SMOTE\n",
        "Xtrain,Ytrain = sm.fit_resample(Xtrain,Ytrain)"
      ]
    },
    {
      "cell_type": "code",
      "execution_count": null,
      "metadata": {
        "id": "6FO-g5rsfIAg"
      },
      "outputs": [],
      "source": [
        "Xtrain = Xtrain.reshape(-1,max_len,emb_size) #again reshaping each datapoint to 20X50 matrix"
      ]
    },
    {
      "cell_type": "code",
      "execution_count": null,
      "metadata": {
        "colab": {
          "base_uri": "https://localhost:8080/",
          "height": 472
        },
        "id": "QOj6OsNELlFy",
        "outputId": "8eecc7f8-ab31-4db0-b64c-a4528f92cf13"
      },
      "outputs": [
        {
          "data": {
            "image/png": "[encoded data removed]",
            "text/plain": [
              "<Figure size 640x480 with 1 Axes>"
            ]
          },
          "metadata": {},
          "output_type": "display_data"
        }
      ],
      "source": [
        "vals,counts = np.unique(Ytrain,return_counts=True,axis=0)\n",
        "vals = np.argmax(vals,axis=1)\n",
        "plt.bar(vals,counts)\n",
        "plt.xticks(vals)\n",
        "plt.xlabel('Emoji Label')\n",
        "plt.ylabel('# of Data Points')\n",
        "plt.title(\"After SMOTE\")\n",
        "plt.show()"
      ]
    },
    {
      "cell_type": "markdown",
      "metadata": {
        "id": "onW744MUdwDh"
      },
      "source": [
        "# Model\n",
        "\n",
        "- For this problem we use Bidirectional LSTM layers, Dropout Layers and Fully Connected Dense Layers\n",
        "- But before that we need to split the dataset into a train and test set. For this we use the train_test_split function"
      ]
    },
    {
      "cell_type": "code",
      "execution_count": null,
      "metadata": {
        "id": "LA0-cpoEc7C8"
      },
      "outputs": [],
      "source": [
        "from sklearn.model_selection import train_test_split\n",
        "Xtrain,xtest,Ytrain,ytest = train_test_split(Xtrain,Ytrain,random_state=42,test_size=0.2)"
      ]
    },
    {
      "cell_type": "markdown",
      "metadata": {
        "id": "QXE5b93fG6LL"
      },
      "source": [
        "RELU\n",
        "\n",
        "<img src=\"https://machinelearningmastery.com/wp-content/uploads/2018/10/Line-Plot-of-Rectified-Linear-Activation-for-Negative-and-Positive-Inputs.png\" width=\"500\"/>\n",
        "\n",
        "Softmax\n",
        "\n",
        "<img src=\"https://miro.medium.com/v2/resize:fit:1400/1*de5BTgQXIV2uLckxrkN85Q.png\" width=\"500\"/>\n",
        "\n",
        "Fully Connected Layer\n",
        "\n",
        "<img src=\"https://docscontent.nvidia.com/dita/00000189-949d-d46e-abe9-bcdf9f8c0000/deeplearning/performance/dl-performance-fully-connected/graphics/fc-layer.svg\" width=\"500\"/>\n",
        "\n",
        "Dropout\n",
        "\n",
        "<img src=\"https://www.baeldung.com/wp-content/uploads/sites/4/2020/05/2-1-2048x745-1.jpg\" width=\"1000\" />"
      ]
    },
    {
      "cell_type": "code",
      "execution_count": null,
      "metadata": {
        "colab": {
          "base_uri": "https://localhost:8080/"
        },
        "id": "Tp4tklo0dvKI",
        "outputId": "85e63c1b-13ce-4950-9f7a-4e14f81493fb"
      },
      "outputs": [
        {
          "name": "stdout",
          "output_type": "stream",
          "text": [
            "Model: \"sequential\"\n",
            "_________________________________________________________________\n",
            " Layer (type)                Output Shape              Param #   \n",
            "=================================================================\n",
            " bidirectional (Bidirection  (None, 20, 1024)          2306048   \n",
            " al)                                                             \n",
            "                                                                 \n",
            " dropout (Dropout)           (None, 20, 1024)          0         \n",
            "                                                                 \n",
            " bidirectional_1 (Bidirecti  (None, 512)               2623488   \n",
            " onal)                                                           \n",
            "                                                                 \n",
            " dropout_1 (Dropout)         (None, 512)               0         \n",
            "                                                                 \n",
            " dense (Dense)               (None, 128)               65664     \n",
            "                                                                 \n",
            " dense_1 (Dense)             (None, 64)                8256      \n",
            "                                                                 \n",
            " dense_2 (Dense)             (None, 32)                2080      \n",
            "                                                                 \n",
            " dense_3 (Dense)             (None, 20)                660       \n",
            "                                                                 \n",
            "=================================================================\n",
            "Total params: 5006196 (19.10 MB)\n",
            "Trainable params: 5006196 (19.10 MB)\n",
            "Non-trainable params: 0 (0.00 Byte)\n",
            "_________________________________________________________________\n"
          ]
        }
      ],
      "source": [
        "model = Sequential() #Sequential basically creates a feed forward network which basically means that the model is a linear stack of different layers where data flows from one layer to another\n",
        "#now we are going to add different layers to out model\n",
        "model.add(Bidirectional(LSTM(units = 512, return_sequences=True), input_shape = (max_len,emb_size))) # Bidirectional means that the input is processed in both forward and backward directions\n",
        "model.add(Dropout(0.3)) #a dropout layer basically prevents overfitting which means that during one iteration of gradient descent 30% of units(selected randomly) in the above LSTM layer will be ignored from training\n",
        "model.add(Bidirectional(LSTM(units=256)))\n",
        "model.add(Dropout(0.3))\n",
        "model.add(Dense(units=128, activation='relu')) #this is just a normal Fully connected layer with a 'relu' activation function\n",
        "model.add(Dense(units=64, activation='relu'))\n",
        "model.add(Dense(units=32, activation='relu'))\n",
        "model.add(Dense(units=20, activation='softmax')) #final layer in the model which returns a 20d vector with each entry representing the probability of the input belonging to that class\n",
        "model.summary()"
      ]
    },
    {
      "cell_type": "code",
      "execution_count": null,
      "metadata": {
        "id": "D3_REm52dyCG"
      },
      "outputs": [],
      "source": [
        "model.compile(loss='categorical_crossentropy',optimizer='adam',metrics=['accuracy']) # defining loss function"
      ]
    },
    {
      "cell_type": "code",
      "execution_count": null,
      "metadata": {
        "colab": {
          "base_uri": "https://localhost:8080/",
          "height": 976
        },
        "id": "ZVsFa-g6DgmQ",
        "outputId": "3e05c6d1-fa0c-49fd-e53b-de038124d607"
      },
      "outputs": [
        {
          "data": {
            "image/png": "[encoded data removed]",
            "text/plain": [
              "<IPython.core.display.Image object>"
            ]
          },
          "execution_count": 34,
          "metadata": {},
          "output_type": "execute_result"
        }
      ],
      "source": [
        "tf.keras.utils.plot_model(model,show_shapes=True,show_layer_names=True) # plotting a figure to represent the model architecture"
      ]
    },
    {
      "cell_type": "code",
      "execution_count": null,
      "metadata": {
        "colab": {
          "base_uri": "https://localhost:8080/"
        },
        "id": "kzfB7QEmdzjK",
        "outputId": "117af04a-fe97-4209-87a6-daa182240fb5"
      },
      "outputs": [
        {
          "name": "stdout",
          "output_type": "stream",
          "text": [
            "Epoch 1/25\n",
            "3019/3019 [==============================] - 86s 25ms/step - loss: 2.5401 - accuracy: 0.2229 - val_loss: 2.2710 - val_accuracy: 0.3098\n",
            "Epoch 2/25\n",
            "3019/3019 [==============================] - 72s 24ms/step - loss: 1.9880 - accuracy: 0.3952 - val_loss: 1.6925 - val_accuracy: 0.4912\n",
            "Epoch 3/25\n",
            "3019/3019 [==============================] - 72s 24ms/step - loss: 1.3863 - accuracy: 0.5791 - val_loss: 1.2235 - val_accuracy: 0.6334\n",
            "Epoch 4/25\n",
            "3019/3019 [==============================] - 72s 24ms/step - loss: 0.9703 - accuracy: 0.7025 - val_loss: 0.9857 - val_accuracy: 0.7090\n",
            "Epoch 5/25\n",
            "3019/3019 [==============================] - 68s 22ms/step - loss: 0.7289 - accuracy: 0.7743 - val_loss: 0.8794 - val_accuracy: 0.7462\n",
            "Epoch 6/25\n",
            "3019/3019 [==============================] - 72s 24ms/step - loss: 0.5868 - accuracy: 0.8162 - val_loss: 0.8142 - val_accuracy: 0.7686\n",
            "Epoch 7/25\n",
            "3019/3019 [==============================] - 72s 24ms/step - loss: 0.4902 - accuracy: 0.8450 - val_loss: 0.7800 - val_accuracy: 0.7852\n",
            "Epoch 8/25\n",
            "3019/3019 [==============================] - 68s 22ms/step - loss: 0.4267 - accuracy: 0.8650 - val_loss: 0.7492 - val_accuracy: 0.7962\n",
            "Epoch 9/25\n",
            "3019/3019 [==============================] - 67s 22ms/step - loss: 0.3781 - accuracy: 0.8805 - val_loss: 0.7370 - val_accuracy: 0.8043\n",
            "Epoch 10/25\n",
            "3019/3019 [==============================] - 73s 24ms/step - loss: 0.3418 - accuracy: 0.8919 - val_loss: 0.7402 - val_accuracy: 0.8105\n",
            "Epoch 11/25\n",
            "3019/3019 [==============================] - 68s 23ms/step - loss: 0.3123 - accuracy: 0.9020 - val_loss: 0.7343 - val_accuracy: 0.8138\n",
            "Epoch 12/25\n",
            "3019/3019 [==============================] - 69s 23ms/step - loss: 0.2888 - accuracy: 0.9084 - val_loss: 0.7337 - val_accuracy: 0.8162\n",
            "Epoch 13/25\n",
            "3019/3019 [==============================] - 73s 24ms/step - loss: 0.2693 - accuracy: 0.9151 - val_loss: 0.7227 - val_accuracy: 0.8242\n",
            "Epoch 14/25\n",
            "3019/3019 [==============================] - 69s 23ms/step - loss: 0.2525 - accuracy: 0.9207 - val_loss: 0.7384 - val_accuracy: 0.8231\n",
            "Epoch 15/25\n",
            "3019/3019 [==============================] - 73s 24ms/step - loss: 0.2410 - accuracy: 0.9237 - val_loss: 0.7342 - val_accuracy: 0.8250\n",
            "Epoch 16/25\n",
            "3019/3019 [==============================] - 72s 24ms/step - loss: 0.2272 - accuracy: 0.9285 - val_loss: 0.7302 - val_accuracy: 0.8279\n",
            "Epoch 17/25\n",
            "3019/3019 [==============================] - 72s 24ms/step - loss: 0.2176 - accuracy: 0.9315 - val_loss: 0.7472 - val_accuracy: 0.8307\n",
            "Epoch 18/25\n",
            "3019/3019 [==============================] - 72s 24ms/step - loss: 0.2092 - accuracy: 0.9339 - val_loss: 0.7279 - val_accuracy: 0.8305\n",
            "Epoch 19/25\n",
            "3019/3019 [==============================] - 72s 24ms/step - loss: 0.2033 - accuracy: 0.9360 - val_loss: 0.7285 - val_accuracy: 0.8314\n",
            "Epoch 20/25\n",
            "3019/3019 [==============================] - 69s 23ms/step - loss: 0.1958 - accuracy: 0.9381 - val_loss: 0.7346 - val_accuracy: 0.8325\n",
            "Epoch 21/25\n",
            "3019/3019 [==============================] - 72s 24ms/step - loss: 0.1906 - accuracy: 0.9397 - val_loss: 0.7219 - val_accuracy: 0.8348\n",
            "Epoch 22/25\n",
            "3019/3019 [==============================] - 73s 24ms/step - loss: 0.1850 - accuracy: 0.9413 - val_loss: 0.7416 - val_accuracy: 0.8333\n",
            "Epoch 23/25\n",
            "3019/3019 [==============================] - 68s 23ms/step - loss: 0.1799 - accuracy: 0.9433 - val_loss: 0.7601 - val_accuracy: 0.8308\n",
            "Epoch 24/25\n",
            "3019/3019 [==============================] - 72s 24ms/step - loss: 0.1759 - accuracy: 0.9450 - val_loss: 0.7368 - val_accuracy: 0.8363\n",
            "Epoch 25/25\n",
            "3019/3019 [==============================] - 76s 25ms/step - loss: 0.1697 - accuracy: 0.9464 - val_loss: 0.7456 - val_accuracy: 0.8344\n"
          ]
        }
      ],
      "source": [
        "# the following line will train the model but for this session we are not going to train the model as it would take a lot of time and rather we will load a model trained before\n",
        "# hist = model.fit(Xtrain,Ytrain,epochs=25,batch_size=64,shuffle=True,validation_split=0.2)\n",
        "# model.save('/content/drive/MyDrive/tiwtter_dataset/models')"
      ]
    },
    {
      "cell_type": "code",
      "execution_count": null,
      "metadata": {
        "colab": {
          "base_uri": "https://localhost:8080/",
          "height": 927
        },
        "id": "_XLi6qJRBKIQ",
        "outputId": "27fcfa2a-46c5-4321-a8c1-cf92c7744d6a"
      },
      "outputs": [
        {
          "data": {
            "image/png": "[encoded data removed]",
            "text/plain": [
              "<Figure size 640x480 with 1 Axes>"
            ]
          },
          "metadata": {},
          "output_type": "display_data"
        },
        {
          "data": {
            "image/png": "[encoded data removed]",
            "text/plain": [
              "<Figure size 640x480 with 1 Axes>"
            ]
          },
          "metadata": {},
          "output_type": "display_data"
        }
      ],
      "source": [
        "# Plotting the losses during training\n",
        "\n",
        "# plt.plot(hist.history['loss'],label='Training Loss')\n",
        "# plt.plot(hist.history['val_loss'],label='Validation Loss')\n",
        "# plt.title('Training and Validation Loss')\n",
        "# plt.xlabel('Epoch')\n",
        "# plt.ylabel('Loss')\n",
        "# plt.legend()\n",
        "# plt.show()\n",
        "\n",
        "# plt.plot(hist.history['accuracy'],label='Training Accuracy')\n",
        "# plt.plot(hist.history['val_accuracy'],label='Validation Accuracy')\n",
        "# plt.title('Training and Validation Accuracy')\n",
        "# plt.xlabel('Epoch')\n",
        "# plt.ylabel('Accuracy')\n",
        "# plt.legend()\n",
        "# plt.show()"
      ]
    },
    {
      "cell_type": "markdown",
      "metadata": {
        "id": "Uek-MjdbJP1J"
      },
      "source": [
        "# Loading the model"
      ]
    },
    {
      "cell_type": "code",
      "execution_count": null,
      "metadata": {
        "id": "sy_NHsFJJPDR"
      },
      "outputs": [],
      "source": [
        "model = tf.keras.models.load_model('/content/twitter_dataset/models')"
      ]
    },
    {
      "cell_type": "code",
      "execution_count": null,
      "metadata": {
        "colab": {
          "base_uri": "https://localhost:8080/"
        },
        "id": "nI7jBKXoVreo",
        "outputId": "f6702cef-690b-4323-c911-6ca892ecd3f8"
      },
      "outputs": [
        {
          "name": "stdout",
          "output_type": "stream",
          "text": [
            "4/4 [==============================] - 2s 33ms/step - loss: 0.6709 - accuracy: 0.8700\n"
          ]
        },
        {
          "data": {
            "text/plain": [
              "[0.670879065990448, 0.8700000047683716]"
            ]
          },
          "execution_count": 36,
          "metadata": {},
          "output_type": "execute_result"
        }
      ],
      "source": [
        "#evaluating the model\n",
        "xtest = xtest[:100]\n",
        "ytest = ytest[:100]\n",
        "model.evaluate(xtest,ytest)"
      ]
    },
    {
      "cell_type": "code",
      "execution_count": null,
      "metadata": {
        "colab": {
          "base_uri": "https://localhost:8080/",
          "height": 960
        },
        "id": "Z8P5ZKl7KPMj",
        "outputId": "9e032412-b38c-4e08-b82c-c6382942412f"
      },
      "outputs": [
        {
          "name": "stdout",
          "output_type": "stream",
          "text": [
            "4/4 [==============================] - 4s 8ms/step\n",
            "              precision    recall  f1-score   support\n",
            "\n",
            "           0       1.00      1.00      1.00         5\n",
            "           1       1.00      0.75      0.86         4\n",
            "           2       0.80      0.67      0.73         6\n",
            "           3       0.80      1.00      0.89         4\n",
            "           4       1.00      1.00      1.00         3\n",
            "           5       0.75      1.00      0.86         3\n",
            "           6       1.00      0.71      0.83         7\n",
            "           7       0.67      1.00      0.80         2\n",
            "           8       1.00      1.00      1.00         3\n",
            "           9       0.40      0.50      0.44         4\n",
            "          10       1.00      0.86      0.92         7\n",
            "          11       1.00      1.00      1.00        10\n",
            "          12       1.00      1.00      1.00         4\n",
            "          13       1.00      1.00      1.00         6\n",
            "          14       0.83      1.00      0.91         5\n",
            "          15       0.62      1.00      0.77         5\n",
            "          16       1.00      0.80      0.89         5\n",
            "          17       0.80      0.67      0.73         6\n",
            "          18       1.00      0.83      0.91         6\n",
            "          19       0.80      0.80      0.80         5\n",
            "\n",
            "    accuracy                           0.87       100\n",
            "   macro avg       0.87      0.88      0.87       100\n",
            "weighted avg       0.89      0.87      0.87       100\n",
            "\n"
          ]
        },
        {
          "data": {
            "image/png": "[encoded data removed]",
            "text/plain": [
              "<Figure size 640x480 with 2 Axes>"
            ]
          },
          "metadata": {},
          "output_type": "display_data"
        }
      ],
      "source": [
        "from sklearn.metrics import classification_report, confusion_matrix\n",
        "import seaborn as sns\n",
        "predicted = model.predict(xtest)\n",
        "print(classification_report(np.argmax(predicted,axis=1),np.argmax(ytest,axis=1)))\n",
        "cm = confusion_matrix(np.argmax(ytest,axis=1),np.argmax(predicted,axis=1))\n",
        "sns.heatmap(cm,annot=True,fmt=\"d\",cmap=\"Blues\")\n",
        "plt.xlabel(\"True labels\")\n",
        "plt.ylabel(\"Predicted labels\")\n",
        "plt.show()"
      ]
    },
    {
      "cell_type": "markdown",
      "metadata": {
        "id": "vRyayGGyPWV0"
      },
      "source": [
        "# Chatbot Interface"
      ]
    },
    {
      "cell_type": "code",
      "execution_count": null,
      "metadata": {
        "id": "IWlTKI9ii9w6"
      },
      "outputs": [],
      "source": [
        "def tokenize(text):\n",
        "    \"\"\"\n",
        "    Function to tokenize the text\n",
        "    \"\"\"\n",
        "    text = np.array([clean(text)])\n",
        "    text = tokenizer.texts_to_sequences(text)\n",
        "    text = pad_sequences(text, maxlen=max_len, padding=\"post\")\n",
        "    return text"
      ]
    },
    {
      "cell_type": "code",
      "execution_count": null,
      "metadata": {
        "id": "zhS5JS-VPcnx"
      },
      "outputs": [],
      "source": [
        "def predictEmoji(Y):\n",
        "    return np.argmax(Y)"
      ]
    },
    {
      "cell_type": "code",
      "execution_count": null,
      "metadata": {
        "id": "Rn2ysVKEPkKE"
      },
      "outputs": [],
      "source": [
        "def getResponse(text):\n",
        "    tokens = tokenize(text)\n",
        "    emb_vec = tokens_to_embedding(tokens)\n",
        "    y = model.predict(emb_vec, verbose=0)\n",
        "    predictedEmoji = predictEmoji(y)\n",
        "    if(y[0][predictedEmoji]<0.5):\n",
        "      return 'Undetected sentiment ❓❓❓'\n",
        "    return emoji_mapping['emoji'][predictedEmoji]"
      ]
    },
    {
      "cell_type": "code",
      "execution_count": null,
      "metadata": {
        "colab": {
          "background_save": true,
          "base_uri": "https://localhost:8080/"
        },
        "id": "D3iElsPwPxVG",
        "outputId": "27482076-ebe5-4fba-b088-4389ea8ce72f"
      },
      "outputs": [
        {
          "name": "stdout",
          "output_type": "stream",
          "text": [
            "😊\n",
            "🎄\n",
            "❤\n",
            "😂\n",
            "Undetected sentiment ❓❓❓\n"
          ]
        }
      ],
      "source": [
        "# Driver code\n",
        "while True:\n",
        "    text = input(\"> \")\n",
        "    if text == \"exit\":\n",
        "        break\n",
        "    print(getResponse(text))"
      ]
    }
  ],
  "metadata": {
    "accelerator": "GPU",
    "colab": {
      "provenance": []
    },
    "kernelspec": {
      "display_name": "Python 3",
      "name": "python3"
    },
    "language_info": {
      "name": "python"
    }
  },
  "nbformat": 4,
  "nbformat_minor": 0
}